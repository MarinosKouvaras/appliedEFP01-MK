{
 "cells": [
  {
   "cell_type": "markdown",
   "id": "34e65320-41dc-4a16-97db-e850f6edf8c8",
   "metadata": {},
   "source": [
    "*Based on kaggle tutorials https://www.kaggle.com/*"
   ]
  },
  {
   "cell_type": "markdown",
   "id": "18918d50-e260-4d0e-85d7-54c94247622d",
   "metadata": {},
   "source": [
    "## Question 1\n",
    "\n",
    "- Τι συμβαίνει όταν πολλαπλασιάζεις έναν `int` ή `float` με το `True`; Τι συμβαίνει όταν τα πολλαπλασιάσετε με `False`; Πώς αλλάζει η απάντηση αν οι αριθμοί είναι θετικοί ή αρνητικοί;\n",
    "- Τι συμβαίνει όταν πολλαπλασιάζεις μια συμβολοσειρά με το `True` ή `False`;"
   ]
  },
  {
   "cell_type": "code",
   "execution_count": 6,
   "id": "2e71bea4-0331-4983-9f28-3bf62139b436",
   "metadata": {},
   "outputs": [
    {
     "name": "stdout",
     "output_type": "stream",
     "text": [
      "0\n"
     ]
    }
   ],
   "source": [
    "print(3 * False)\n",
    "# print(-3.1 * True)\n",
    "# print(type(\"abc\" * False))\n",
    "# print(len(\"abc\" * False))"
   ]
  },
  {
   "cell_type": "markdown",
   "id": "5bc2f892-bd09-4195-b762-fff33d18ccd5",
   "metadata": {},
   "source": [
    "## Question 2\n",
    "\n",
    "Σε αυτήν την ερώτηση, θα βασίσετε την εργασία σας από την προηγούμενη άσκηση για να γράψετε μια συνάρτηση που υπολογίζει την αξία ενός σπιτιού.\n",
    "\n",
    "Χρησιμοποιήστε το επόμενο κελί κώδικα για να δημιουργήσετε μια συνάρτηση `get_expected_cost` που λαμβάνει ως είσοδο τρεις μεταβλητές:\n",
    "- `bedrooms` - αριθμός δωματίων\n",
    "- `baths` - αριθμός μπανιων\n",
    "- `has_basement` - είτε το σπίτι έχει (40000) υπόγειο είτε όχι "
   ]
  },
  {
   "cell_type": "code",
   "execution_count": 2,
   "id": "f1391b32-0f0e-4f0c-aa07-fb743fc554fb",
   "metadata": {},
   "outputs": [],
   "source": [
    "# TODO: Complete the function\n",
    "def get_expected_cost(bedrooms, baths, has_basement):\n",
    "    value = 20000 + (bedrooms * 10000) + (baths * 5000) + (has_basement * 40000)\n",
    "    return value"
   ]
  },
  {
   "cell_type": "code",
   "execution_count": 4,
   "metadata": {},
   "outputs": [],
   "source": [
    "cost = get_expected_cost(2, 1, True)"
   ]
  },
  {
   "cell_type": "markdown",
   "id": "63902903-46ce-4a1c-9695-99a1351a657e",
   "metadata": {},
   "source": [
    "## Question 3\n",
    "Για αυτήν την ερώτηση, καθήκον σας είναι να δώσετε μια περιγραφή του τι συμβαίνει όταν προσθέτετε booleans."
   ]
  },
  {
   "cell_type": "code",
   "execution_count": null,
   "id": "3e6807f2-63fd-4cd9-bf61-564d9408e0c0",
   "metadata": {},
   "outputs": [],
   "source": [
    "print(False + False)\n",
    "print(True + False)\n",
    "print(False + True)\n",
    "print(True + True)\n",
    "print(False + True + True + True)"
   ]
  },
  {
   "cell_type": "markdown",
   "id": "0f1b4ab3-81ca-41f6-9c82-46c78a976d1c",
   "metadata": {},
   "source": [
    "## 🌶️ Question 4\n",
    "\n",
    "\n",
    "Έχετε ένα ηλεκτρονικό κατάστημα όπου πουλάτε δαχτυλίδια με προσαρμοσμένες χαράξεις. Προσφέρετε επιχρυσωμένα και μασίφ χρυσά δαχτυλίδια.\n",
    "- Τα επιχρυσωμένα δαχτυλίδια έχουν βασικό κόστος €50 και χρεώνετε €7 ανά χαραγμένη μονάδα.\n",
    "- Τα δαχτυλίδια από μασίφ χρυσό έχουν βασικό κόστος €100 και χρεώνετε €10 ανά χαραγμένη μονάδα.\n",
    "- Τα κενά και τα σημεία στίξης υπολογίζονται ως χαραγμένες μονάδες.\n",
    "\n",
    "Γράψτε μια συνάρτηση `cost_of_project()` που παίρνει δύο ορίσματα:\n",
    "- `engraving` - μια συμβολοσειρά Python με το κείμενο της χαρακτικής\n",
    "- `solid_gold` - ένα Boolean που υποδεικνύει εάν το δαχτυλίδι είναι συμπαγές χρυσό"
   ]
  },
  {
   "cell_type": "code",
   "execution_count": null,
   "id": "ed48692b-b034-44de-875c-c4412e84ebeb",
   "metadata": {},
   "outputs": [],
   "source": [
    "def cost_of_project(engraving, solid_gold):\n",
    "    cost = ____\n",
    "    return cost\n"
   ]
  }
 ],
 "metadata": {
  "kernelspec": {
   "display_name": "price39_env",
   "language": "python",
   "name": "price39_env"
  },
  "language_info": {
   "codemirror_mode": {
    "name": "ipython",
    "version": 3
   },
   "file_extension": ".py",
   "mimetype": "text/x-python",
   "name": "python",
   "nbconvert_exporter": "python",
   "pygments_lexer": "ipython3",
   "version": "3.9.16"
  }
 },
 "nbformat": 4,
 "nbformat_minor": 5
}
