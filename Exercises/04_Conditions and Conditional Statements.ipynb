{
 "cells": [
  {
   "cell_type": "markdown",
   "id": "b5fca4cb-8e96-4406-bc50-cbe1346c6c54",
   "metadata": {},
   "source": [
    "## Question 1\n",
    "\n",
    "Έχετε ένα σύνολο δεδομένων βαθμολογίου, παρατηρείτε ότι σε ορισμένους μαθητές οι βαθμοί τους είναι με γράμματα (\"A\", \"B\", \"C\", \"D\", \"F\"), ενώ άλλοι έχουν τους βαθμούς τους με έναν αριθμό μεταξύ 0 και 100.\n",
    "\n",
    "Αντιλαμβάνεστε ότι για λόγους συνέπειας, όλοι οι βαθμοί πρέπει να μορφοποιούνται με τον ίδιο τρόπο και αποφασίζετε να τους μορφοποιήσετε όλους ως γράμματα. Για τη μετατροπή, αποφασίζετε να εκχωρήσετε:\n",
    "\n",
    "- \"A\" - οποιοσδήποτε βαθμός 90-100, included\n",
    "- \"Β\" - οποιοσδήποτε βαθμός 80-89, included\n",
    "- \"C\" - οποιοσδήποτε βαθμός 70-79, included\n",
    "- \"D\" - οποιοσδήποτε βαθμός 60-69, included\n",
    "- \"F\" - οποιοσδήποτε βαθμός <60"
   ]
  },
  {
   "cell_type": "code",
   "execution_count": 1,
   "id": "ea8841f6-1557-497f-af4d-2bde2a4e869f",
   "metadata": {},
   "outputs": [],
   "source": [
    "# TODO: Edit the function to return the correct grade for different scores\n",
    "def get_grade(score):\n",
    "    if score > 90:\n",
    "        grade = \"A\"\n",
    "    elif score > 80:\n",
    "        grade = \"B\"\n",
    "    elif score > 70:\n",
    "        grade = \"C\"\n",
    "    elif score > 60:\n",
    "        grade = \"D\"\n",
    "    else:\n",
    "        grade = \"F\"       \n",
    "    \n",
    "    return grade"
   ]
  },
  {
   "cell_type": "code",
   "execution_count": 6,
   "metadata": {},
   "outputs": [
    {
     "name": "stdout",
     "output_type": "stream",
     "text": [
      "A\n",
      "A\n",
      "B\n",
      "B\n",
      "C\n",
      "C\n",
      "D\n",
      "D\n",
      "F\n",
      "F\n"
     ]
    }
   ],
   "source": [
    "#Simple test to chech the results\n",
    "grades_scores = [100,95,90,89,80,79,70,69,60,59]\n",
    "for grade_score in grades_scores:\n",
    "    result = get_grade(grade_score)\n",
    "    print(result)"
   ]
  },
  {
   "cell_type": "markdown",
   "id": "bcbe185e-a571-4615-bdf6-85599c55ee5f",
   "metadata": {},
   "source": [
    "## Question 2\n",
    "\n",
    "Στην άσκηση για το προηγούμενο μάθημα, γράψατε μια συνάρτηση `cost_of_project()` που υπολόγιζε την τιμή των δαχτυλιδιών για ένα ηλεκτρονικό κατάστημα που πουλά δαχτυλίδια με προσαρμοσμένες γκραβούρες. Αυτή η συνάρτηση δεν χρησιμοποίησε προτάσεις υπό όρους. Σε αυτήν την άσκηση, θα ξαναγράψετε τη συνάρτηση για να χρησιμοποιήσετε εντολές υπό όρους. Υπενθυμίζουμε ότι το ηλεκτρονικό κατάστημα έχει την ακόλουθη δομή τιμών:\n",
    "\n",
    "- Τα επιχρυσωμένα δαχτυλίδια έχουν βασικό κόστος €50 και χρεώνετε €7 ανά χαραγμένη μονάδα.\n",
    "- Τα δαχτυλίδια από μασίφ χρυσό έχουν βασικό κόστος €100 και χρεώνετε €10 ανά χαραγμένη μονάδα.\n",
    "- Τα κενά και τα σημεία στίξης υπολογίζονται ως χαραγμένες μονάδες.\n",
    "\n",
    "Γράψτε μια συνάρτηση `cost_of_project()` που παίρνει δύο ορίσματα:\n",
    "- `engraving` - μια συμβολοσειρά Python με το κείμενο της χαρακτικής\n",
    "- `solid_gold` - ένα Boolean που υποδεικνύει εάν το δαχτυλίδι είναι συμπαγές χρυσός\n",
    "\n"
   ]
  },
  {
   "cell_type": "code",
   "execution_count": 7,
   "id": "285114e7-bc8c-4b45-83ee-49fdadd65c18",
   "metadata": {},
   "outputs": [],
   "source": [
    "def cost_of_project(engraving, solid_gold):\n",
    "    if solid_gold == True:\n",
    "        cost = 100 + len(engraving)*10\n",
    "    else:\n",
    "        cost = 50 + len(engraving)*7\n",
    "    return cost\n",
    "\n"
   ]
  },
  {
   "cell_type": "code",
   "execution_count": 8,
   "metadata": {},
   "outputs": [
    {
     "name": "stdout",
     "output_type": "stream",
     "text": [
      "170\n"
     ]
    }
   ],
   "source": [
    "test = cost_of_project(\"happy .\", True)\n",
    "print(test)"
   ]
  },
  {
   "cell_type": "markdown",
   "id": "e9af0f16-75a8-4649-b0ef-5fc628842d68",
   "metadata": {},
   "source": [
    "## Question 3\n",
    "\n",
    "Είστε προγραμματιστής σε εταιρία νερού. Πρόσφατα, σας ανατέθηκε να γράψετε μια συνάρτηση `get_water_bill()` που λαμβάνει ως είσοδο:\n",
    "\n",
    "- `num_litres` = ο αριθμός των λίτρων νερού που χρησιμοποίησε ένας πελάτης εκείνο το μήνα. (Αυτός θα είναι πάντα ένας ακέραιος χωρίς δεκαδικό μέρος.)\n",
    "\n",
    "Θα πρέπει να υπολογίζει τον λογαριασμό του νερού.\n",
    "\n",
    "Η υπηρεσία ύδρευσης χρησιμοποιεί αυτήν τη δομή τιμολόγησης:\n",
    "\n",
    "<table style=\"width: 100%;\">\n",
    "<tbody>\n",
    "<tr><th><b>Κλίμακα </b></th><th><b>Ποσότητα σε λίτρα</b></th><th><b>Κόστος ανά 100 λίτρα</b></th></tr>\n",
    "<tr>\n",
    "<td>Κλίμακα 1</td>\n",
    "<td>0 - 1,000</td>\n",
    "<td> €5</td>\n",
    "</tr>\n",
    "<tr>\n",
    "<td>Κλίμακα  2</td>\n",
    "<td>1,001 - 5,000</td>\n",
    "<td> €6</td>\n",
    "</tr>\n",
    "<tr>\n",
    "<td>Κλίμακα  3</td>\n",
    "<td>5,001 - 10,000</td>\n",
    "<td> €7</td>\n",
    "</tr>\n",
    "<tr>\n",
    "<td>Κλίμακα  4</td>\n",
    "<td>20,001+</td>\n",
    "<td> €10</td>\n",
    "</tr>\n",
    "</tbody>\n",
    "</table>\n",
    "\n",
    "\n",
    "**Μην στρογγυλοποιείτε την απάντησή σας.** Έτσι, η απάντησή σας μπορεί να επιστρέψει κλάσματα του ευρώ."
   ]
  },
  {
   "cell_type": "code",
   "execution_count": 12,
   "metadata": {},
   "outputs": [],
   "source": [
    "import math"
   ]
  },
  {
   "cell_type": "code",
   "execution_count": 40,
   "id": "ff29c4ac-2a1f-480d-9ed3-f943d1c7642b",
   "metadata": {},
   "outputs": [],
   "source": [
    "\n",
    "def get_water_bill(num_litres):\n",
    "    scale1_price = 5/100\n",
    "    scale1_cost = scale1_price*1000\n",
    "    scale2_price = 6/100\n",
    "    scale2_cost = scale2_price*4000\n",
    "    scale3_price = 7/100\n",
    "    scale3_cost = scale3_price*5000\n",
    "    scale4_price = 10/100\n",
    "    \n",
    "    num_litres = math.floor(num_litres)\n",
    "    if 0<num_litres<=1000:\n",
    "        cost = scale1_price * num_litres\n",
    "    elif 1001<=num_litres<=5000:\n",
    "        cost = (scale1_cost) + (num_litres-1000)*scale2_price\n",
    "    elif 5001<=num_litres<=20000:\n",
    "        cost = (scale1_cost) + (scale2_cost) + (num_litres-5000)*scale3_price\n",
    "    elif num_litres>=20000:\n",
    "        cost = (scale1_cost) + (scale2_cost) * (scale3_cost) + (num_litres-20000)*scale4_price\n",
    "        \n",
    "    return cost\n",
    "        "
   ]
  },
  {
   "cell_type": "code",
   "execution_count": 41,
   "metadata": {},
   "outputs": [
    {
     "name": "stdout",
     "output_type": "stream",
     "text": [
      "640.0\n"
     ]
    }
   ],
   "source": [
    "test3 = get_water_bill(10000)\n",
    "print(test3)"
   ]
  },
  {
   "cell_type": "markdown",
   "id": "ee5d865e-8dd7-45f4-9bda-777227dd01c6",
   "metadata": {},
   "source": [
    "## Question 4\n",
    "\n",
    "Εργάζεστε σε μια εταιρεία που παρέχει υπηρεσίες δεδομένων. Για €10/μήνα, η εταιρεία σας παρέχει 15 gigabyte (GB) δεδομένων. Στη συνέχεια, τυχόν πρόσθετα δεδομένα χρεώνονται με €0,05/MB (ή €100/GB, καθώς τα 1.000 MB είναι σε 1 GB).\n",
    "\n",
    "Χρησιμοποιήστε το επόμενο κελί κώδικα για να γράψετε μια συνάρτηση `get_phone_bill()` που λαμβάνει ως είσοδο:\n",
    "- `gb` = αριθμός GB που χρησιμοποίησε ο πελάτης σε ένα μήνα\n",
    "\n",
    "Θα πρέπει να επιστρέψει τον συνολικό τηλεφωνικό λογαριασμό του πελάτη."
   ]
  },
  {
   "cell_type": "code",
   "execution_count": null,
   "id": "ef222ea0-4b31-4f30-95f1-b8465dffffae",
   "metadata": {},
   "outputs": [],
   "source": [
    "# TODO: Edit the function to return the correct bill for different\n",
    "# values of GB\n",
    "def get_phone_bill(gb):\n",
    "    bill = 10\n",
    "    if gb > 15:\n",
    "        bill = bill + (gb-15)*100\n",
    "    return bill"
   ]
  }
 ],
 "metadata": {
  "kernelspec": {
   "display_name": "Python 3.10.6 ('exerc_venv': venv)",
   "language": "python",
   "name": "python3"
  },
  "language_info": {
   "codemirror_mode": {
    "name": "ipython",
    "version": 3
   },
   "file_extension": ".py",
   "mimetype": "text/x-python",
   "name": "python",
   "nbconvert_exporter": "python",
   "pygments_lexer": "ipython3",
   "version": "3.12.0"
  },
  "vscode": {
   "interpreter": {
    "hash": "859fa3b1593710b6eb4bbdb744343e4ffda11c820b11949b92adfdd7e56dcd1c"
   }
  }
 },
 "nbformat": 4,
 "nbformat_minor": 5
}
